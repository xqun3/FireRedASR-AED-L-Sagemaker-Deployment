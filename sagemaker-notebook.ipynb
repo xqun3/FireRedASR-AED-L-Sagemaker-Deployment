{
 "cells": [
  {
   "cell_type": "markdown",
   "id": "unknown-edwards",
   "metadata": {},
   "source": [
    "# FireRedASR-AED-L torchserve SageMaker Deployment"
   ]
  },
  {
   "cell_type": "code",
   "execution_count": 1,
   "id": "24c5403c-d870-448a-9e31-4bd91b5de085",
   "metadata": {
    "tags": []
   },
   "outputs": [
    {
     "name": "stdout",
     "output_type": "stream",
     "text": [
      "Requirement already satisfied: kaldiio in /home/ec2-user/anaconda3/envs/pytorch_p310/lib/python3.10/site-packages (2.18.1)\n",
      "Requirement already satisfied: numpy in /home/ec2-user/anaconda3/envs/pytorch_p310/lib/python3.10/site-packages (from kaldiio) (1.26.4)\n"
     ]
    }
   ],
   "source": [
    "!pip install kaldiio"
   ]
  },
  {
   "cell_type": "code",
   "execution_count": 2,
   "id": "6d866df6-b84d-44b0-88d4-332c1b0d5bee",
   "metadata": {
    "tags": []
   },
   "outputs": [
    {
     "name": "stderr",
     "output_type": "stream",
     "text": [
      "/home/ec2-user/anaconda3/envs/pytorch_p310/lib/python3.10/site-packages/pydantic/_internal/_fields.py:172: UserWarning: Field name \"json\" in \"MonitoringDatasetFormat\" shadows an attribute in parent \"Base\"\n",
      "  warnings.warn(\n"
     ]
    },
    {
     "data": {
      "text/html": [
       "<pre style=\"white-space:pre;overflow-x:auto;line-height:normal;font-family:Menlo,'DejaVu Sans Mono',consolas,'Courier New',monospace\"><span style=\"color: #7fbfbf; text-decoration-color: #7fbfbf\">[05/20/25 04:30:42] </span><span style=\"color: #0069ff; text-decoration-color: #0069ff; font-weight: bold\">INFO    </span> Found credentials in shared credentials file: ~<span style=\"color: #e100e1; text-decoration-color: #e100e1\">/.aws/credentials</span>   <a href=\"file:///home/ec2-user/anaconda3/envs/pytorch_p310/lib/python3.10/site-packages/botocore/credentials.py\" target=\"_blank\"><span style=\"color: #7f7f7f; text-decoration-color: #7f7f7f\">credentials.py</span></a><span style=\"color: #7f7f7f; text-decoration-color: #7f7f7f\">:</span><a href=\"file:///home/ec2-user/anaconda3/envs/pytorch_p310/lib/python3.10/site-packages/botocore/credentials.py#1352\" target=\"_blank\"><span style=\"color: #7f7f7f; text-decoration-color: #7f7f7f\">1352</span></a>\n",
       "</pre>\n"
      ],
      "text/plain": [
       "\u001b[2;36m[05/20/25 04:30:42]\u001b[0m\u001b[2;36m \u001b[0m\u001b[1;38;2;0;105;255mINFO    \u001b[0m Found credentials in shared credentials file: ~\u001b[38;2;225;0;225m/.aws/\u001b[0m\u001b[38;2;225;0;225mcredentials\u001b[0m   \u001b]8;id=735310;file:///home/ec2-user/anaconda3/envs/pytorch_p310/lib/python3.10/site-packages/botocore/credentials.py\u001b\\\u001b[2mcredentials.py\u001b[0m\u001b]8;;\u001b\\\u001b[2m:\u001b[0m\u001b]8;id=319667;file:///home/ec2-user/anaconda3/envs/pytorch_p310/lib/python3.10/site-packages/botocore/credentials.py#1352\u001b\\\u001b[2m1352\u001b[0m\u001b]8;;\u001b\\\n"
      ]
     },
     "metadata": {},
     "output_type": "display_data"
    },
    {
     "name": "stdout",
     "output_type": "stream",
     "text": [
      "sagemaker.config INFO - Not applying SDK defaults from location: /etc/xdg/sagemaker/config.yaml\n",
      "sagemaker.config INFO - Not applying SDK defaults from location: /home/ec2-user/.config/sagemaker/config.yaml\n"
     ]
    },
    {
     "data": {
      "text/html": [
       "<pre style=\"white-space:pre;overflow-x:auto;line-height:normal;font-family:Menlo,'DejaVu Sans Mono',consolas,'Courier New',monospace\"><span style=\"color: #7fbfbf; text-decoration-color: #7fbfbf\">                    </span><span style=\"color: #0069ff; text-decoration-color: #0069ff; font-weight: bold\">INFO    </span> Found credentials in shared credentials file: ~<span style=\"color: #e100e1; text-decoration-color: #e100e1\">/.aws/credentials</span>   <a href=\"file:///home/ec2-user/anaconda3/envs/pytorch_p310/lib/python3.10/site-packages/botocore/credentials.py\" target=\"_blank\"><span style=\"color: #7f7f7f; text-decoration-color: #7f7f7f\">credentials.py</span></a><span style=\"color: #7f7f7f; text-decoration-color: #7f7f7f\">:</span><a href=\"file:///home/ec2-user/anaconda3/envs/pytorch_p310/lib/python3.10/site-packages/botocore/credentials.py#1352\" target=\"_blank\"><span style=\"color: #7f7f7f; text-decoration-color: #7f7f7f\">1352</span></a>\n",
       "</pre>\n"
      ],
      "text/plain": [
       "\u001b[2;36m                   \u001b[0m\u001b[2;36m \u001b[0m\u001b[1;38;2;0;105;255mINFO    \u001b[0m Found credentials in shared credentials file: ~\u001b[38;2;225;0;225m/.aws/\u001b[0m\u001b[38;2;225;0;225mcredentials\u001b[0m   \u001b]8;id=957798;file:///home/ec2-user/anaconda3/envs/pytorch_p310/lib/python3.10/site-packages/botocore/credentials.py\u001b\\\u001b[2mcredentials.py\u001b[0m\u001b]8;;\u001b\\\u001b[2m:\u001b[0m\u001b]8;id=860374;file:///home/ec2-user/anaconda3/envs/pytorch_p310/lib/python3.10/site-packages/botocore/credentials.py#1352\u001b\\\u001b[2m1352\u001b[0m\u001b]8;;\u001b\\\n"
      ]
     },
     "metadata": {},
     "output_type": "display_data"
    },
    {
     "name": "stdout",
     "output_type": "stream",
     "text": [
      "sagemaker role arn: arn:aws:iam::596899493901:role/service-role/AmazonSageMaker-ExecutionRole-20240126T153870\n"
     ]
    },
    {
     "data": {
      "text/html": [
       "<pre style=\"white-space:pre;overflow-x:auto;line-height:normal;font-family:Menlo,'DejaVu Sans Mono',consolas,'Courier New',monospace\"><span style=\"color: #7fbfbf; text-decoration-color: #7fbfbf\">[05/20/25 04:30:43] </span><span style=\"color: #0069ff; text-decoration-color: #0069ff; font-weight: bold\">INFO    </span> Found credentials in shared credentials file: ~<span style=\"color: #e100e1; text-decoration-color: #e100e1\">/.aws/credentials</span>   <a href=\"file:///home/ec2-user/anaconda3/envs/pytorch_p310/lib/python3.10/site-packages/botocore/credentials.py\" target=\"_blank\"><span style=\"color: #7f7f7f; text-decoration-color: #7f7f7f\">credentials.py</span></a><span style=\"color: #7f7f7f; text-decoration-color: #7f7f7f\">:</span><a href=\"file:///home/ec2-user/anaconda3/envs/pytorch_p310/lib/python3.10/site-packages/botocore/credentials.py#1352\" target=\"_blank\"><span style=\"color: #7f7f7f; text-decoration-color: #7f7f7f\">1352</span></a>\n",
       "</pre>\n"
      ],
      "text/plain": [
       "\u001b[2;36m[05/20/25 04:30:43]\u001b[0m\u001b[2;36m \u001b[0m\u001b[1;38;2;0;105;255mINFO    \u001b[0m Found credentials in shared credentials file: ~\u001b[38;2;225;0;225m/.aws/\u001b[0m\u001b[38;2;225;0;225mcredentials\u001b[0m   \u001b]8;id=145711;file:///home/ec2-user/anaconda3/envs/pytorch_p310/lib/python3.10/site-packages/botocore/credentials.py\u001b\\\u001b[2mcredentials.py\u001b[0m\u001b]8;;\u001b\\\u001b[2m:\u001b[0m\u001b]8;id=108975;file:///home/ec2-user/anaconda3/envs/pytorch_p310/lib/python3.10/site-packages/botocore/credentials.py#1352\u001b\\\u001b[2m1352\u001b[0m\u001b]8;;\u001b\\\n"
      ]
     },
     "metadata": {},
     "output_type": "display_data"
    }
   ],
   "source": [
    "import sagemaker\n",
    "import boto3\n",
    "\n",
    "try:\n",
    "    role = sagemaker.get_execution_role()\n",
    "except ValueError:\n",
    "    iam = boto3.client('iam')\n",
    "    role = iam.get_role(RoleName='sagemaker_execution_role')['Role']['Arn']\n",
    "\n",
    "print(f\"sagemaker role arn: {role}\")\n",
    "sess = sagemaker.session.Session()  # sagemaker session for interacting with different AWS APIs\n",
    "region = sess._region_name # region name of the current SageMaker Studio environment"
   ]
  },
  {
   "cell_type": "code",
   "execution_count": 3,
   "id": "3a55695a-2640-4568-b57f-80869fada09c",
   "metadata": {
    "tags": []
   },
   "outputs": [
    {
     "name": "stdout",
     "output_type": "stream",
     "text": [
      "Overwriting code/inference.py\n"
     ]
    }
   ],
   "source": [
    "%%writefile code/inference.py\n",
    "import os\n",
    "import sys\n",
    "\n",
    "import torch\n",
    "import logging\n",
    "import json\n",
    "import numpy as np\n",
    "import torch.nn.functional as F\n",
    "import uuid\n",
    "\n",
    "\n",
    "from fireredasr.models.fireredasr import FireRedAsr\n",
    "\n",
    "logging.basicConfig(level=logging.INFO)\n",
    "logger = logging.getLogger(__name__)\n",
    "\n",
    "\n",
    "def generate_request_id():\n",
    "    \"\"\"生成唯一的request_id\"\"\"\n",
    "    return str(uuid.uuid4())\n",
    "\n",
    "def model_fn(model_dir):\n",
    "    model = FireRedAsr.from_pretrained(\"aed\", \"pretrained_models/FireRedASR-AED-L/\")\n",
    "    return model\n",
    "\n",
    "def input_fn(request_body, request_content_type):\n",
    "    audio = np.frombuffer(request_body, dtype=np.int16)\n",
    "    request_id = generate_request_id()\n",
    "    return (audio, request_id)\n",
    "\n",
    "\n",
    "def predict_fn(input_data, model):\n",
    "    audio_data, request_id = input_data\n",
    "    results = model.transcribe(\n",
    "        [request_id],\n",
    "        audio_data,\n",
    "        {\n",
    "            \"use_gpu\": 1,\n",
    "            \"beam_size\": 3,\n",
    "            \"nbest\": 1,\n",
    "            \"decode_max_len\": 0,\n",
    "            \"softmax_smoothing\": 1.0,\n",
    "            \"aed_length_penalty\": 0.0,\n",
    "            \"eos_penalty\": 1.0\n",
    "        }\n",
    "    )\n",
    "    logger.info(f'ori results: {results}')\n",
    "\n",
    "    logger.info(\n",
    "        f'Transcription generated: {results[0][\"text\"]}') \n",
    "    return results\n",
    "\n",
    "\n",
    "def output_fn(prediction, response_content_type):\n",
    "    logger.info(\n",
    "        f'Formatting output with content type: {response_content_type}')\n",
    "    if response_content_type == 'application/json':\n",
    "        return json.dumps({'transcription': prediction})\n",
    "    raise ValueError(f'Unsupported content type: {response_content_type}')\n"
   ]
  },
  {
   "cell_type": "code",
   "execution_count": 4,
   "id": "5cd4e170-b589-470e-81ad-ab9304719d32",
   "metadata": {
    "tags": []
   },
   "outputs": [
    {
     "name": "stdout",
     "output_type": "stream",
     "text": [
      "./code/\n",
      "./code/inference.py\n",
      "./code/pretrained_models/\n",
      "./code/pretrained_models/README.md\n",
      "./code/pretrained_models/FireRedASR-AED-L/\n",
      "./code/pretrained_models/FireRedASR-AED-L/cmvn.ark\n",
      "./code/pretrained_models/FireRedASR-AED-L/train_bpe1000.model\n",
      "./code/pretrained_models/FireRedASR-AED-L/dict.txt\n",
      "./code/pretrained_models/FireRedASR-AED-L/README.md\n",
      "./code/pretrained_models/FireRedASR-AED-L/cmvn.txt\n",
      "./code/pretrained_models/FireRedASR-AED-L/config.yaml\n",
      "./code/pretrained_models/FireRedASR-AED-L/model.pth.tar\n",
      "./code/requirements.txt\n",
      "./code/test.py\n",
      "./code/output.wav\n",
      "./code/fireredasr/\n",
      "./code/fireredasr/utils/\n",
      "./code/fireredasr/utils/wer.py\n",
      "./code/fireredasr/utils/param.py\n",
      "./code/fireredasr/tokenizer/\n",
      "./code/fireredasr/tokenizer/aed_tokenizer.py\n",
      "./code/fireredasr/tokenizer/llm_tokenizer.py\n",
      "./code/fireredasr/data/\n",
      "./code/fireredasr/data/token_dict.py\n",
      "./code/fireredasr/data/asr_feat.py\n",
      "./code/fireredasr/speech2text.py\n",
      "./code/fireredasr/models/\n",
      "./code/fireredasr/models/module/\n",
      "./code/fireredasr/models/module/conformer_encoder.py\n",
      "./code/fireredasr/models/module/adapter.py\n",
      "./code/fireredasr/models/module/transformer_decoder.py\n",
      "./code/fireredasr/models/fireredasr.py\n",
      "./code/fireredasr/models/fireredasr_aed.py\n",
      "./code/fireredasr/models/fireredasr_llm.py\n"
     ]
    }
   ],
   "source": [
    "!rm model.tar.gz\n",
    "!tar -czvf model.tar.gz ./code --exclude='*.ipynb' --exclude='*/.ipynb_checkpoints' --exclude='*/*/__pycache__'"
   ]
  },
  {
   "cell_type": "code",
   "execution_count": 5,
   "id": "18b3d4ac-2b2c-45ee-9185-53339befbad6",
   "metadata": {
    "tags": []
   },
   "outputs": [
    {
     "name": "stdout",
     "output_type": "stream",
     "text": [
      "S3 Code or Model tar ball uploaded to --- > s3://sagemaker-us-east-1-596899493901/fireredasr_deploy_codes/model.tar.gz\n"
     ]
    }
   ],
   "source": [
    "s3_code_prefix = f\"fireredasr_deploy_codes\"\n",
    "bucket = sess.default_bucket()\n",
    "code_artifact = sess.upload_data(\"model.tar.gz\", bucket, s3_code_prefix)\n",
    "print(f\"S3 Code or Model tar ball uploaded to --- > {code_artifact}\")"
   ]
  },
  {
   "cell_type": "code",
   "execution_count": 6,
   "id": "e7fca310-4424-492b-bf96-fa9fb82b0d93",
   "metadata": {
    "tags": []
   },
   "outputs": [
    {
     "data": {
      "text/html": [
       "<pre style=\"white-space:pre;overflow-x:auto;line-height:normal;font-family:Menlo,'DejaVu Sans Mono',consolas,'Courier New',monospace\"><span style=\"color: #7fbfbf; text-decoration-color: #7fbfbf\">[05/20/25 04:39:39] </span><span style=\"color: #0069ff; text-decoration-color: #0069ff; font-weight: bold\">INFO    </span> Found credentials in shared credentials file: ~<span style=\"color: #e100e1; text-decoration-color: #e100e1\">/.aws/credentials</span>   <a href=\"file:///home/ec2-user/anaconda3/envs/pytorch_p310/lib/python3.10/site-packages/botocore/credentials.py\" target=\"_blank\"><span style=\"color: #7f7f7f; text-decoration-color: #7f7f7f\">credentials.py</span></a><span style=\"color: #7f7f7f; text-decoration-color: #7f7f7f\">:</span><a href=\"file:///home/ec2-user/anaconda3/envs/pytorch_p310/lib/python3.10/site-packages/botocore/credentials.py#1352\" target=\"_blank\"><span style=\"color: #7f7f7f; text-decoration-color: #7f7f7f\">1352</span></a>\n",
       "</pre>\n"
      ],
      "text/plain": [
       "\u001b[2;36m[05/20/25 04:39:39]\u001b[0m\u001b[2;36m \u001b[0m\u001b[1;38;2;0;105;255mINFO    \u001b[0m Found credentials in shared credentials file: ~\u001b[38;2;225;0;225m/.aws/\u001b[0m\u001b[38;2;225;0;225mcredentials\u001b[0m   \u001b]8;id=716181;file:///home/ec2-user/anaconda3/envs/pytorch_p310/lib/python3.10/site-packages/botocore/credentials.py\u001b\\\u001b[2mcredentials.py\u001b[0m\u001b]8;;\u001b\\\u001b[2m:\u001b[0m\u001b]8;id=825758;file:///home/ec2-user/anaconda3/envs/pytorch_p310/lib/python3.10/site-packages/botocore/credentials.py#1352\u001b\\\u001b[2m1352\u001b[0m\u001b]8;;\u001b\\\n"
      ]
     },
     "metadata": {},
     "output_type": "display_data"
    },
    {
     "name": "stdout",
     "output_type": "stream",
     "text": [
      "image_uri:  763104351884.dkr.ecr.us-east-1.amazonaws.com/pytorch-inference:2.6.0-gpu-py312\n",
      "Created Model: {'ModelArn': 'arn:aws:sagemaker:us-east-1:596899493901:model/fireredasr-torchserve-2025-05-20-04-39-39', 'ResponseMetadata': {'RequestId': 'a98a04e2-d07d-4743-9f3e-353c26b8c28c', 'HTTPStatusCode': 200, 'HTTPHeaders': {'x-amzn-requestid': 'a98a04e2-d07d-4743-9f3e-353c26b8c28c', 'content-type': 'application/x-amz-json-1.1', 'content-length': '103', 'date': 'Tue, 20 May 2025 04:39:40 GMT'}, 'RetryAttempts': 0}}\n"
     ]
    }
   ],
   "source": [
    "from datetime import datetime\n",
    "import sagemaker \n",
    "sm = boto3.Session().client(\"sagemaker\")\n",
    "image_uri = sagemaker.image_uris.retrieve(\n",
    "    framework=\"pytorch\",\n",
    "    region=region,\n",
    "    py_version=\"py312\",\n",
    "    image_scope=\"inference\",\n",
    "    version=\"2.6.0\",\n",
    "    instance_type=\"ml.g5.2xlarge\",\n",
    ")\n",
    "\n",
    "print(\"image_uri: \", image_uri)\n",
    "\n",
    "env_variables_dict = {\n",
    "    \"SAGEMAKER_TS_BATCH_SIZE\": \"4\",\n",
    "    \"SAGEMAKER_TS_MAX_BATCH_DELAY\": \"100\",\n",
    "    \"SAGEMAKER_TS_MIN_WORKERS\": \"4\",\n",
    "    \"SAGEMAKER_TS_MAX_WORKERS\": \"4\",\n",
    "}\n",
    "endpoint_name = f\"fireredasr-torchserve-{datetime.now():%Y-%m-%d-%H-%M-%S}\"\n",
    "resp = sm.create_model(\n",
    "    ModelName=endpoint_name,\n",
    "    ExecutionRoleArn=role,\n",
    "    Containers=[{\"Image\": image_uri, \"ModelDataUrl\": code_artifact, \"Environment\": env_variables_dict}]\n",
    ")\n",
    "print(f\"Created Model: {resp}\")"
   ]
  },
  {
   "cell_type": "code",
   "execution_count": 7,
   "id": "59ae81e3-e19b-499d-b5fa-3676359dae8d",
   "metadata": {
    "tags": []
   },
   "outputs": [
    {
     "name": "stdout",
     "output_type": "stream",
     "text": [
      "Created Endpoint Config: {'EndpointConfigArn': 'arn:aws:sagemaker:us-east-1:596899493901:endpoint-config/fireredasr-torchserve-2025-05-20-04-39-39', 'ResponseMetadata': {'RequestId': '3fa078dd-000e-4e5d-b145-bc534980160f', 'HTTPStatusCode': 200, 'HTTPHeaders': {'x-amzn-requestid': '3fa078dd-000e-4e5d-b145-bc534980160f', 'content-type': 'application/x-amz-json-1.1', 'content-length': '122', 'date': 'Tue, 20 May 2025 04:39:45 GMT'}, 'RetryAttempts': 0}}\n"
     ]
    }
   ],
   "source": [
    "resp = sm.create_endpoint_config(\n",
    "    EndpointConfigName=endpoint_name,\n",
    "    ProductionVariants=[\n",
    "        {\n",
    "            \"VariantName\": \"AllTraffic\",\n",
    "            \"ModelName\": endpoint_name,\n",
    "            \"InstanceType\": \"ml.g5.2xlarge\",\n",
    "            \"InitialInstanceCount\": 1,\n",
    "        }\n",
    "    ],\n",
    ")\n",
    "print(f\"Created Endpoint Config: {resp}\")"
   ]
  },
  {
   "cell_type": "code",
   "execution_count": 8,
   "id": "5e339f3e-bada-4086-80de-7721571e1d60",
   "metadata": {
    "tags": []
   },
   "outputs": [
    {
     "name": "stdout",
     "output_type": "stream",
     "text": [
      "\n",
      "Created Endpoint: {'EndpointArn': 'arn:aws:sagemaker:us-east-1:596899493901:endpoint/fireredasr-torchserve-2025-05-20-04-39-39', 'ResponseMetadata': {'RequestId': 'ba7e8699-ae29-4c41-a48b-74a266803c16', 'HTTPStatusCode': 200, 'HTTPHeaders': {'x-amzn-requestid': 'ba7e8699-ae29-4c41-a48b-74a266803c16', 'content-type': 'application/x-amz-json-1.1', 'content-length': '109', 'date': 'Tue, 20 May 2025 04:39:49 GMT'}, 'RetryAttempts': 0}}\n"
     ]
    }
   ],
   "source": [
    "# creating endpoint with the first endpoint config (ep_config_name)\n",
    "resp = sm.create_endpoint(EndpointName=endpoint_name, EndpointConfigName=endpoint_name)\n",
    "print(f\"\\nCreated Endpoint: {resp}\")"
   ]
  },
  {
   "cell_type": "code",
   "execution_count": 9,
   "id": "c5d0ebda-0edc-4338-9b73-80fdc4c29811",
   "metadata": {
    "tags": []
   },
   "outputs": [
    {
     "name": "stdout",
     "output_type": "stream",
     "text": [
      "Waiting for endpoint in service\n",
      "..............\n",
      "Done!\n",
      "CPU times: user 61.4 ms, sys: 14.9 ms, total: 76.3 ms\n",
      "Wall time: 7min 1s\n"
     ]
    },
    {
     "data": {
      "text/plain": [
       "{'EndpointName': 'fireredasr-torchserve-2025-05-20-04-39-39',\n",
       " 'EndpointArn': 'arn:aws:sagemaker:us-east-1:596899493901:endpoint/fireredasr-torchserve-2025-05-20-04-39-39',\n",
       " 'EndpointConfigName': 'fireredasr-torchserve-2025-05-20-04-39-39',\n",
       " 'ProductionVariants': [{'VariantName': 'AllTraffic',\n",
       "   'DeployedImages': [{'SpecifiedImage': '763104351884.dkr.ecr.us-east-1.amazonaws.com/pytorch-inference:2.6.0-gpu-py312',\n",
       "     'ResolvedImage': '763104351884.dkr.ecr.us-east-1.amazonaws.com/pytorch-inference@sha256:d1b173191e87ab763e1c567506b03ec7621302148759f106aa781300231d86ac',\n",
       "     'ResolutionTime': datetime.datetime(2025, 5, 20, 4, 39, 50, 248000, tzinfo=tzlocal())}],\n",
       "   'CurrentWeight': 1.0,\n",
       "   'DesiredWeight': 1.0,\n",
       "   'CurrentInstanceCount': 1,\n",
       "   'DesiredInstanceCount': 1}],\n",
       " 'EndpointStatus': 'InService',\n",
       " 'CreationTime': datetime.datetime(2025, 5, 20, 4, 39, 49, 493000, tzinfo=tzlocal()),\n",
       " 'LastModifiedTime': datetime.datetime(2025, 5, 20, 4, 46, 59, 775000, tzinfo=tzlocal()),\n",
       " 'ResponseMetadata': {'RequestId': '8751527c-d2b5-405d-8aa6-7adea762323c',\n",
       "  'HTTPStatusCode': 200,\n",
       "  'HTTPHeaders': {'x-amzn-requestid': '8751527c-d2b5-405d-8aa6-7adea762323c',\n",
       "   'content-type': 'application/x-amz-json-1.1',\n",
       "   'content-length': '778',\n",
       "   'date': 'Tue, 20 May 2025 04:47:00 GMT'},\n",
       "  'RetryAttempts': 0}}"
      ]
     },
     "execution_count": 9,
     "metadata": {},
     "output_type": "execute_result"
    }
   ],
   "source": [
    "%%time\n",
    "import time\n",
    "def wait_for_endpoint_in_service(endpoint_name):\n",
    "    print(\"Waiting for endpoint in service\")\n",
    "    while True:\n",
    "        details = sm.describe_endpoint(EndpointName=endpoint_name)\n",
    "        status = details[\"EndpointStatus\"]\n",
    "        if status in [\"InService\", \"Failed\"]:\n",
    "            print(\"\\nDone!\")\n",
    "            break\n",
    "        print(\".\", end=\"\", flush=True)\n",
    "        time.sleep(30)\n",
    "\n",
    "\n",
    "wait_for_endpoint_in_service(endpoint_name)\n",
    "\n",
    "sm.describe_endpoint(EndpointName=endpoint_name)"
   ]
  },
  {
   "cell_type": "code",
   "execution_count": 17,
   "id": "903c79a8-50b0-4c01-9e00-173c8a2000ea",
   "metadata": {
    "tags": []
   },
   "outputs": [
    {
     "name": "stdout",
     "output_type": "stream",
     "text": [
      "Transcription result:\n",
      "{\n",
      "  \"transcription\": [\n",
      "    {\n",
      "      \"request_id\": \"0ee2e8e9-3fa4-4c7e-9d01-f23358602c97\",\n",
      "      \"text\": \"甚至出现交易几乎停滞的情况\",\n",
      "      \"rtf\": \"0.0692\"\n",
      "    }\n",
      "  ]\n",
      "}\n"
     ]
    }
   ],
   "source": [
    "import boto3\n",
    "import json\n",
    "import base64\n",
    "import kaldiio\n",
    "\n",
    "def invoke_sagemaker_endpoint(runtime_client, endpoint_name, audio_data, request_id=None, whisper_prompt=\"\"):\n",
    "    \"\"\"Invoke SageMaker endpoint with audio data\"\"\"\n",
    "    \n",
    "    response = runtime_client.invoke_endpoint(\n",
    "        EndpointName=endpoint_name,\n",
    "        ContentType='application/octet-stream',\n",
    "        Body=audio_data,\n",
    "    )\n",
    "\n",
    "    result = json.loads(response['Body'].read().decode())\n",
    "    # # 在返回结果中添加request_id\n",
    "    # result['request_id'] = request_id\n",
    "    return result\n",
    "\n",
    "def prepare_audio(audio_file, target_sr=16000):\n",
    "    sample_rate, wav_np = kaldiio.load_mat(audio_file)    \n",
    "    audio_bytes = wav_np.tobytes()\n",
    "    return audio_bytes\n",
    "\n",
    "def transcribe_audio(audio_path, endpoint_name):\n",
    "    \"\"\"\n",
    "    转录音频文件\n",
    "    :param audio_path: 音频文件路径\n",
    "    :param endpoint_name: SageMaker端点名称\n",
    "    :param request_id: 可选的请求ID\n",
    "    :return: 转录结果\n",
    "    \"\"\"\n",
    "    try:\n",
    "        audio_data = prepare_audio(audio_path)\n",
    "        runtime_client = boto3.client('sagemaker-runtime')\n",
    "        result = invoke_sagemaker_endpoint(\n",
    "            runtime_client,\n",
    "            endpoint_name,\n",
    "            audio_data\n",
    "        )\n",
    "\n",
    "        return result\n",
    "\n",
    "    except Exception as e:\n",
    "        error_response = {\n",
    "            'error': str(e),\n",
    "        }\n",
    "        return error_response\n",
    "\n",
    "if __name__ == \"__main__\":\n",
    "    audio_path = \"examples/wav/BAC009S0764W0121.wav\"\n",
    "\n",
    "    result = transcribe_audio(audio_path, endpoint_name)\n",
    "\n",
    "    print(\"Transcription result:\")\n",
    "    print(json.dumps(result, indent=2, ensure_ascii=False))\n"
   ]
  },
  {
   "cell_type": "code",
   "execution_count": 18,
   "id": "e093782d-fe76-4ff7-a509-09c18968f237",
   "metadata": {
    "tags": []
   },
   "outputs": [
    {
     "name": "stdout",
     "output_type": "stream",
     "text": [
      "Transcription result:\n",
      "{\n",
      "  \"transcription\": [\n",
      "    {\n",
      "      \"request_id\": \"87f010f3-b76f-40b8-877c-f60cc01a9c34\",\n",
      "      \"text\": \"THIS WAY THE EQUIPMENT YOU WISH TO SELL WILL ALREADY BE SELECTED WHEN YOU OPEN THE SHOP THE NEXT TIME AND AFTER SELLING IT YOU CAN CLOSE THE SHOP AND BUY THE NEXT PIECE OF EQUIPMENT DIRECTLY\",\n",
      "      \"rtf\": \"0.1290\"\n",
      "    }\n",
      "  ]\n",
      "}\n",
      "time_consume:  1.4025085670000408\n"
     ]
    }
   ],
   "source": [
    "st = time.monotonic()\n",
    "audio_path = \"./output.wav\"\n",
    "result = transcribe_audio(audio_path, endpoint_name)\n",
    "time_consume = time.monotonic() - st\n",
    "print(\"Transcription result:\")\n",
    "print(json.dumps(result, indent=2, ensure_ascii=False))\n",
    "print(\"time_consume: \", time_consume)"
   ]
  },
  {
   "cell_type": "code",
   "execution_count": 34,
   "id": "ba624a4b-d66a-4a15-b39d-50c459bead63",
   "metadata": {
    "tags": []
   },
   "outputs": [
    {
     "name": "stdout",
     "output_type": "stream",
     "text": [
      "ffmpeg version 4.3 Copyright (c) 2000-2020 the FFmpeg developers\n",
      "  built with gcc 7.3.0 (crosstool-NG 1.23.0.449-a04d0)\n",
      "  configuration: --prefix=/home/ec2-user/anaconda3/envs/pytorch_p310 --cc=/opt/conda/conda-bld/ffmpeg_1597178665428/_build_env/bin/x86_64-conda_cos6-linux-gnu-cc --disable-doc --disable-openssl --enable-avresample --enable-gnutls --enable-hardcoded-tables --enable-libfreetype --enable-libopenh264 --enable-pic --enable-pthreads --enable-shared --disable-static --enable-version3 --enable-zlib --enable-libmp3lame\n",
      "  libavutil      56. 51.100 / 56. 51.100\n",
      "  libavcodec     58. 91.100 / 58. 91.100\n",
      "  libavformat    58. 45.100 / 58. 45.100\n",
      "  libavdevice    58. 10.100 / 58. 10.100\n",
      "  libavfilter     7. 85.100 /  7. 85.100\n",
      "  libavresample   4.  0.  0 /  4.  0.  0\n",
      "  libswscale      5.  7.100 /  5.  7.100\n",
      "  libswresample   3.  7.100 /  3.  7.100\n",
      "\u001b[0;33mGuessed Channel Layout for Input Stream #0.0 : mono\n",
      "\u001b[0mInput #0, wav, from '223.wav':\n",
      "  Duration: 00:00:09.57, bitrate: 256 kb/s\n",
      "    Stream #0:0: Audio: pcm_s16le ([1][0][0][0] / 0x0001), 16000 Hz, mono, s16, 256 kb/s\n",
      "Stream mapping:\n",
      "  Stream #0:0 -> #0:0 (pcm_s16le (native) -> pcm_s16le (native))\n",
      "Press [q] to stop, [?] for help\n",
      "Output #0, wav, to 'output.wav':\n",
      "  Metadata:\n",
      "    ISFT            : Lavf58.45.100\n",
      "    Stream #0:0: Audio: pcm_s16le ([1][0][0][0] / 0x0001), 16000 Hz, mono, s16, 256 kb/s\n",
      "    Metadata:\n",
      "      encoder         : Lavc58.91.100 pcm_s16le\n",
      "size=     299kB time=00:00:09.56 bitrate= 256.1kbits/s speed=1.31e+03x    \n",
      "video:0kB audio:299kB subtitle:0kB other streams:0kB global headers:0kB muxing overhead: 0.025482%\n"
     ]
    }
   ],
   "source": [
    "!ffmpeg -i 223.wav -ar 16000 -ac 1 -acodec pcm_s16le -f wav output.wav"
   ]
  },
  {
   "cell_type": "code",
   "execution_count": 23,
   "id": "failing-meaning",
   "metadata": {
    "tags": []
   },
   "outputs": [
    {
     "data": {
      "text/plain": [
       "{'ResponseMetadata': {'RequestId': '5040fbe9-1c20-4632-8912-9838a3429811',\n",
       "  'HTTPStatusCode': 200,\n",
       "  'HTTPHeaders': {'x-amzn-requestid': '5040fbe9-1c20-4632-8912-9838a3429811',\n",
       "   'content-type': 'application/x-amz-json-1.1',\n",
       "   'date': 'Tue, 20 May 2025 04:30:20 GMT',\n",
       "   'content-length': '0'},\n",
       "  'RetryAttempts': 0}}"
      ]
     },
     "execution_count": 23,
     "metadata": {},
     "output_type": "execute_result"
    }
   ],
   "source": [
    "# delete endpoint\n",
    "sm.delete_endpoint(EndpointName=endpoint_name)\n",
    "sm.delete_endpoint_config(EndpointConfigName=endpoint_name)\n",
    "sm.delete_model(ModelName=endpoint_name)"
   ]
  },
  {
   "cell_type": "code",
   "execution_count": null,
   "id": "f4ba8863-9ee6-432e-9155-55d6781e712a",
   "metadata": {},
   "outputs": [],
   "source": []
  }
 ],
 "metadata": {
  "instance_type": "ml.t3.medium",
  "interpreter": {
   "hash": "ec1370a512a4612a2908be3c3c8b0de1730d00dc30104daff827065aeaf438b7"
  },
  "kernelspec": {
   "display_name": "conda_pytorch_p310",
   "language": "python",
   "name": "conda_pytorch_p310"
  },
  "language_info": {
   "codemirror_mode": {
    "name": "ipython",
    "version": 3
   },
   "file_extension": ".py",
   "mimetype": "text/x-python",
   "name": "python",
   "nbconvert_exporter": "python",
   "pygments_lexer": "ipython3",
   "version": "3.10.14"
  }
 },
 "nbformat": 4,
 "nbformat_minor": 5
}
